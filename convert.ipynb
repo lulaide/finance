{
 "cells": [
  {
   "cell_type": "code",
   "execution_count": null,
   "id": "79bd0353",
   "metadata": {},
   "outputs": [
    {
     "name": "stdout",
     "output_type": "stream",
     "text": [
      "已生成 clean\\txt\\008.txt\n",
      "已生成 clean\\txt\\039.txt\n",
      "已生成 clean\\txt\\065.txt\n",
      "已生成 clean\\txt\\085.txt\n",
      "已生成 clean\\txt\\098.txt\n",
      "已生成 clean\\txt\\158.txt\n",
      "已生成 clean\\txt\\168.txt\n",
      "已生成 clean\\txt\\187.txt\n",
      "已生成 clean\\txt\\199.txt\n",
      "已生成 clean\\txt\\283.txt\n",
      "已生成 clean\\txt\\291.txt\n",
      "已生成 clean\\txt\\368.txt\n",
      "已生成 clean\\txt\\461.txt\n",
      "已生成 clean\\txt\\759.txt\n",
      "已生成 clean\\txt\\769.txt\n"
     ]
    }
   ],
   "source": [
    "import os\n",
    "import pandas as pd\n",
    "\n",
    "INPUT_DIR = 'B题附件'\n",
    "OUTPUT_DIR = os.path.join('clean', 'txt')\n",
    "os.makedirs(OUTPUT_DIR, exist_ok=True)\n",
    "\n",
    "for root, dirs, files in os.walk(INPUT_DIR):\n",
    "    for filename in files:\n",
    "        if filename.lower().endswith('.xlsx'):\n",
    "            input_path = os.path.join(root, filename)\n",
    "            try:\n",
    "                df = pd.read_excel(input_path, header=None, dtype=str)\n",
    "            except Exception as e:\n",
    "                print(f\"无法读取文件 {input_path}: {e}\")\n",
    "                continue\n",
    "\n",
    "            first_col = df.iloc[:, 0].fillna('').astype(str)\n",
    "            base_name = os.path.splitext(filename)[0]\n",
    "            output_path = os.path.join(OUTPUT_DIR, f\"{base_name}.txt\")\n",
    "            try:\n",
    "                with open(output_path, 'w', encoding='utf-8') as f:\n",
    "                    for item in first_col:\n",
    "                        f.write(item + \"\\n\")\n",
    "                print(f\"已生成 {output_path}\")\n",
    "            except Exception as e:\n",
    "                print(f\"无法写入文件 {output_path}: {e}\")\n"
   ]
  },
  {
   "cell_type": "code",
   "execution_count": null,
   "id": "2e338d7e",
   "metadata": {},
   "outputs": [
    {
     "name": "stdout",
     "output_type": "stream",
     "text": [
      "已处理文件 clean\\txt\\008.txt\n",
      "已处理文件 clean\\txt\\039.txt\n",
      "已处理文件 clean\\txt\\065.txt\n",
      "已处理文件 clean\\txt\\085.txt\n",
      "已处理文件 clean\\txt\\098.txt\n",
      "已处理文件 clean\\txt\\158.txt\n",
      "已处理文件 clean\\txt\\168.txt\n",
      "已处理文件 clean\\txt\\187.txt\n",
      "已处理文件 clean\\txt\\199.txt\n",
      "已处理文件 clean\\txt\\283.txt\n",
      "已处理文件 clean\\txt\\291.txt\n",
      "已处理文件 clean\\txt\\368.txt\n",
      "已处理文件 clean\\txt\\461.txt\n",
      "已处理文件 clean\\txt\\759.txt\n",
      "已处理文件 clean\\txt\\769.txt\n"
     ]
    }
   ],
   "source": [
    "\"\"\"\n",
    "遍历clean/txt目录下的txt文件，删除其中不以【，┌，├，｜，└开始的行\n",
    "\"\"\"\n",
    "for root, dirs, files in os.walk(OUTPUT_DIR):\n",
    "    for filename in files:\n",
    "        if filename.lower().endswith('.txt'):\n",
    "            file_path = os.path.join(root, filename)\n",
    "            try:\n",
    "                with open(file_path, 'r', encoding='utf-8') as f:\n",
    "                    lines = f.readlines()\n",
    "                filtered_lines = [line for line in lines if line.startswith(('【', '｜'))]\n",
    "                with open(file_path, 'w', encoding='utf-8') as f:\n",
    "                    f.writelines(filtered_lines)\n",
    "                \n",
    "                print(f\"已处理文件 {file_path}\")\n",
    "            except Exception as e:\n",
    "                print(f\"无法处理文件 {file_path}: {e}\")"
   ]
  }
 ],
 "metadata": {
  "kernelspec": {
   "display_name": "data",
   "language": "python",
   "name": "python3"
  },
  "language_info": {
   "codemirror_mode": {
    "name": "ipython",
    "version": 3
   },
   "file_extension": ".py",
   "mimetype": "text/x-python",
   "name": "python",
   "nbconvert_exporter": "python",
   "pygments_lexer": "ipython3",
   "version": "3.10.16"
  }
 },
 "nbformat": 4,
 "nbformat_minor": 5
}
